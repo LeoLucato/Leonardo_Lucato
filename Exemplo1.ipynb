{
  "nbformat": 4,
  "nbformat_minor": 0,
  "metadata": {
    "colab": {
      "name": "Exemplo1.ipynb",
      "provenance": [],
      "authorship_tag": "ABX9TyO9ULA4PzxN/QUu8YIeHUq0",
      "include_colab_link": true
    },
    "kernelspec": {
      "name": "python3",
      "display_name": "Python 3"
    }
  },
  "cells": [
    {
      "cell_type": "markdown",
      "metadata": {
        "id": "view-in-github",
        "colab_type": "text"
      },
      "source": [
        "<a href=\"https://colab.research.google.com/github/LeoLucato/Leonardo_Lucato/blob/master/Exemplo1.ipynb\" target=\"_parent\"><img src=\"https://colab.research.google.com/assets/colab-badge.svg\" alt=\"Open In Colab\"/></a>"
      ]
    },
    {
      "cell_type": "code",
      "metadata": {
        "id": "nyCfAmXr7Lu0",
        "colab_type": "code",
        "colab": {
          "base_uri": "https://localhost:8080/",
          "height": 170
        },
        "outputId": "3bb37723-6066-4dcb-96e1-15d05d870df9"
      },
      "source": [
        "print(\"Olá mundo\")\n",
        "\n",
        "for i in range(1,10):\n",
        "  print(\"Número: \", i)"
      ],
      "execution_count": null,
      "outputs": [
        {
          "output_type": "stream",
          "text": [
            "Número:  1\n",
            "Número:  2\n",
            "Número:  3\n",
            "Número:  4\n",
            "Número:  5\n",
            "Número:  6\n",
            "Número:  7\n",
            "Número:  8\n",
            "Número:  9\n"
          ],
          "name": "stdout"
        }
      ]
    }
  ]
}